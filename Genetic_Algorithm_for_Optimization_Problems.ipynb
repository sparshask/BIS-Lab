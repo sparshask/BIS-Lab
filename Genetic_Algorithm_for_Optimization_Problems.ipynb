{
  "nbformat": 4,
  "nbformat_minor": 0,
  "metadata": {
    "colab": {
      "provenance": []
    },
    "kernelspec": {
      "name": "python3",
      "display_name": "Python 3"
    },
    "language_info": {
      "name": "python"
    }
  },
  "cells": [
    {
      "cell_type": "code",
      "execution_count": 2,
      "metadata": {
        "colab": {
          "base_uri": "https://localhost:8080/"
        },
        "id": "fHR_TkfL74j0",
        "outputId": "8ff6c679-8ba2-45cf-ea15-4d71e64661f5"
      },
      "outputs": [
        {
          "output_type": "stream",
          "name": "stdout",
          "text": [
            "Enter the population size: 5\n",
            "Enter the number of generations: 3\n",
            "Enter the mutation rate (0 to 1): 0.1\n",
            "Enter the crossover rate (0 to 1): 0.01\n",
            "Optimal x: 0.6366004815717053\n",
            "Best function value: 1.5810238397583913\n",
            "Sparsha Srinath Kadaba - 1BM22CS287\n"
          ]
        }
      ],
      "source": [
        "# 1. Genetic Algorithm for Optimization Problems:\n",
        "# Application - Data Fitting and Curve Fitting\n",
        "\n",
        "import numpy as np\n",
        "import random\n",
        "\n",
        "# Define the function to optimize\n",
        "def objective_function(x):\n",
        "    return x * np.sin(10 * np.pi * x) + 1\n",
        "\n",
        "# Function to get user input\n",
        "def get_user_input():\n",
        "    population_size = int(input(\"Enter the population size: \"))\n",
        "    num_generations = int(input(\"Enter the number of generations: \"))\n",
        "    mutation_rate = float(input(\"Enter the mutation rate (0 to 1): \"))\n",
        "    crossover_rate = float(input(\"Enter the crossover rate (0 to 1): \"))\n",
        "\n",
        "    return population_size, num_generations, mutation_rate, crossover_rate\n",
        "\n",
        "# Initialize population\n",
        "def initialize_population(size):\n",
        "    return [random.uniform(0, 1) for _ in range(size)]\n",
        "\n",
        "# Evaluate fitness\n",
        "def evaluate_population(population):\n",
        "    return [objective_function(x) for x in population]\n",
        "\n",
        "# Selection (Tournament Selection)\n",
        "def select(population, fitness):\n",
        "    tournament_size = min(5, len(population))  # Ensure tournament size is valid\n",
        "    selected = []\n",
        "    for _ in range(len(population)):\n",
        "        tournament = random.sample(list(zip(population, fitness)), tournament_size)\n",
        "        winner = max(tournament, key=lambda item: item[1])[0]\n",
        "        selected.append(winner)\n",
        "    return selected\n",
        "\n",
        "# Crossover\n",
        "def crossover(parent1, parent2, crossover_rate):\n",
        "    if random.random() < crossover_rate:\n",
        "        return (parent1 + parent2) / 2  # Simple averaging\n",
        "    return parent1\n",
        "\n",
        "# Mutation\n",
        "def mutate(individual, mutation_rate):\n",
        "    if random.random() < mutation_rate:\n",
        "        return random.uniform(0, 1)  # Random new value\n",
        "    return individual\n",
        "\n",
        "# Genetic Algorithm\n",
        "def genetic_algorithm(population_size, num_generations, mutation_rate, crossover_rate):\n",
        "    population = initialize_population(population_size)\n",
        "\n",
        "    for generation in range(num_generations):\n",
        "        fitness = evaluate_population(population)\n",
        "        selected_population = select(population, fitness)\n",
        "        new_population = []\n",
        "\n",
        "        for i in range(0, len(selected_population), 2):\n",
        "            parent1 = selected_population[i]\n",
        "            parent2 = selected_population[i + 1] if i + 1 < len(selected_population) else selected_population[0]\n",
        "            offspring = crossover(parent1, parent2, crossover_rate)\n",
        "            mutated_offspring = mutate(offspring, mutation_rate)\n",
        "            new_population.append(mutated_offspring)\n",
        "\n",
        "        population = new_population\n",
        "\n",
        "    # Final evaluation\n",
        "    fitness = evaluate_population(population)\n",
        "    best_fitness = max(fitness)\n",
        "    best_solution = population[np.argmax(fitness)]\n",
        "\n",
        "    return best_solution, best_fitness\n",
        "\n",
        "# Main code to run the genetic algorithm\n",
        "population_size, num_generations, mutation_rate, crossover_rate = get_user_input()\n",
        "best_x, best_value = genetic_algorithm(population_size, num_generations, mutation_rate, crossover_rate)\n",
        "\n",
        "print(f\"Optimal x: {best_x}\")\n",
        "print(f\"Best function value: {best_value}\")\n",
        "\n",
        "print(\"Sparsha Srinath Kadaba - 1BM22CS287\")"
      ]
    }
  ]
}