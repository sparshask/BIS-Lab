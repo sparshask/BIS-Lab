{
  "nbformat": 4,
  "nbformat_minor": 0,
  "metadata": {
    "colab": {
      "provenance": []
    },
    "kernelspec": {
      "name": "python3",
      "display_name": "Python 3"
    },
    "language_info": {
      "name": "python"
    }
  },
  "cells": [
    {
      "cell_type": "code",
      "execution_count": 9,
      "metadata": {
        "colab": {
          "base_uri": "https://localhost:8080/"
        },
        "id": "fHR_TkfL74j0",
        "outputId": "d832e08f-f13a-4f55-81f6-7d069a4b3e3f"
      },
      "outputs": [
        {
          "output_type": "stream",
          "name": "stdout",
          "text": [
            "Enter the number of cities: 4\n",
            "Enter the distance matrix for 4 cities. Each row should contain the distances to other cities (e.g., 0 for the distance to itself).\n",
            "Enter distances from city 1: 0 2 4 6\n",
            "Enter distances from city 2: 1 0 3 5\n",
            "Enter distances from city 3: 3 6 0 9\n",
            "Enter distances from city 4: 5 10 15 0\n",
            "Best tour: [0, 1, 2, 3]\n",
            "Best tour length: 19.0\n",
            "Sparsha Srinath Kadaba - 1BM22CS287\n"
          ]
        }
      ],
      "source": [
        "# 3. Ant Colony Optimization for the Traveling Salesman Problem:\n",
        "# Application - Traveling Salesman Problem\n",
        "\n",
        "import numpy as np\n",
        "\n",
        "# Initialize pheromone values\n",
        "def initialize_pheromone_matrix(n, tau0):\n",
        "    return np.full((n, n), tau0)\n",
        "\n",
        "# Function to calculate probabilities for the next city\n",
        "def calculate_probabilities(tau, alpha, beta, distances, current_city, unvisited):\n",
        "    pheromone = tau[current_city, unvisited] ** alpha\n",
        "    visibility = (1 / distances[current_city, unvisited]) ** beta\n",
        "    probabilities = pheromone * visibility\n",
        "    return probabilities / probabilities.sum()\n",
        "\n",
        "# Ant Colony Optimization for the Traveling Salesman Problem\n",
        "def ant_colony_optimization(distances, alpha=1.0, beta=2.0, rho=0.5, tau0=0.1, num_ants=10, num_iterations=100):\n",
        "    n = len(distances)\n",
        "    tau = initialize_pheromone_matrix(n, tau0)\n",
        "    best_tour = None\n",
        "    best_tour_length = float('inf')\n",
        "\n",
        "    for _ in range(num_iterations):\n",
        "        all_tours = []\n",
        "        all_tour_lengths = []\n",
        "\n",
        "        # Each ant constructs a solution\n",
        "        for ant in range(num_ants):\n",
        "            unvisited = list(range(n))\n",
        "            current_city = np.random.choice(unvisited)\n",
        "            tour = [current_city]\n",
        "            unvisited.remove(current_city)\n",
        "\n",
        "            # Build a complete tour\n",
        "            while unvisited:\n",
        "                probabilities = calculate_probabilities(tau, alpha, beta, distances, current_city, unvisited)\n",
        "                next_city = np.random.choice(unvisited, p=probabilities)\n",
        "                tour.append(next_city)\n",
        "                unvisited.remove(next_city)\n",
        "                current_city = next_city\n",
        "\n",
        "            # Calculate the length of the tour\n",
        "            tour_length = sum(distances[tour[i - 1], tour[i]] for i in range(n))\n",
        "            all_tours.append(tour)\n",
        "            all_tour_lengths.append(tour_length)\n",
        "\n",
        "            # Update the best solution found\n",
        "            if tour_length < best_tour_length:\n",
        "                best_tour = tour\n",
        "                best_tour_length = tour_length\n",
        "\n",
        "        # Evaporate pheromones\n",
        "        tau *= (1 - rho)\n",
        "\n",
        "        # Update pheromones based on each ant's tour\n",
        "        for tour, tour_length in zip(all_tours, all_tour_lengths):\n",
        "            for i in range(n):\n",
        "                tau[tour[i - 1], tour[i]] += 1 / tour_length\n",
        "\n",
        "        # Reinforce the best tour\n",
        "        for i in range(n):\n",
        "            tau[best_tour[i - 1], best_tour[i]] += 1 / best_tour_length\n",
        "\n",
        "    return best_tour, best_tour_length\n",
        "\n",
        "# Function to get the distance matrix from user input\n",
        "def get_distances_from_user():\n",
        "    n = int(input(\"Enter the number of cities: \"))\n",
        "    print(f\"Enter the distance matrix for {n} cities. Each row should contain the distances to other cities (e.g., 0 for the distance to itself).\")\n",
        "\n",
        "    distances = []\n",
        "    for i in range(n):\n",
        "        row = list(map(float, input(f\"Enter distances from city {i+1}: \").split()))\n",
        "        distances.append(row)\n",
        "\n",
        "    return np.array(distances)\n",
        "\n",
        "# Example usage:\n",
        "distances = get_distances_from_user()\n",
        "best_tour, best_tour_length = ant_colony_optimization(distances)\n",
        "\n",
        "print(\"Best tour:\", best_tour)\n",
        "print(\"Best tour length:\", best_tour_length)\n",
        "\n",
        "print(\"Sparsha Srinath Kadaba - 1BM22CS287\")"
      ]
    }
  ]
}