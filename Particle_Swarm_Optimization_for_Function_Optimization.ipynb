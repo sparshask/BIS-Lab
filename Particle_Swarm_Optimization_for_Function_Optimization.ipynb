{
  "nbformat": 4,
  "nbformat_minor": 0,
  "metadata": {
    "colab": {
      "provenance": []
    },
    "kernelspec": {
      "name": "python3",
      "display_name": "Python 3"
    },
    "language_info": {
      "name": "python"
    }
  },
  "cells": [
    {
      "cell_type": "code",
      "execution_count": 6,
      "metadata": {
        "colab": {
          "base_uri": "https://localhost:8080/"
        },
        "id": "fHR_TkfL74j0",
        "outputId": "4b9e0bc5-2667-45db-acda-fdc1c080c487"
      },
      "outputs": [
        {
          "output_type": "stream",
          "name": "stdout",
          "text": [
            "Particle Swarm Optimization for Function Optimization\n",
            "Enter the number of particles: 3\n",
            "Enter the number of dimensions: 2\n",
            "Enter the number of iterations: 5\n",
            "Enter inertia weight (w): 23\n",
            "Enter cognitive coefficient (c1): 21\n",
            "Enter social coefficient (c2): 23\n",
            "Enter minimum boundary for positions: 45\n",
            "Enter maximum boundary for positions: 56\n",
            "Best Position: [45.91456508 51.85325691]\n",
            "Best Value: 4802.271895257663\n",
            "Sparsha Srinath Kadaba - 1BM22CS287\n"
          ]
        }
      ],
      "source": [
        "# 2. Particle Swarm Optimization for Function Optimization:\n",
        "# Application - Rastrigin Function\n",
        "\n",
        "import numpy as np\n",
        "\n",
        "# Define the Rastrigin function\n",
        "def rastrigin(x):\n",
        "    A = 10\n",
        "    n = len(x)\n",
        "    return A * n + sum([xi**2 - A * np.cos(2 * np.pi * xi) for xi in x])\n",
        "\n",
        "class Particle:\n",
        "    def __init__(self, dim, minx, maxx):\n",
        "        self.position = np.random.uniform(minx, maxx, dim)\n",
        "        self.velocity = np.random.uniform(-1, 1, dim)\n",
        "        self.best_position = self.position.copy()\n",
        "        self.best_value = rastrigin(self.position)\n",
        "\n",
        "def particle_swarm_optimization(num_particles, dim, num_iterations, w, c1, c2, minx, maxx):\n",
        "    swarm = [Particle(dim, minx, maxx) for _ in range(num_particles)]\n",
        "    best_pos_swarm = swarm[0].best_position.copy()\n",
        "    best_fitness_swarm = swarm[0].best_value\n",
        "\n",
        "    for _ in range(num_iterations):\n",
        "        for particle in swarm:\n",
        "            r1, r2 = np.random.rand(dim), np.random.rand(dim)\n",
        "\n",
        "            # Compute new velocity\n",
        "            particle.velocity = (w * particle.velocity +\n",
        "                                 c1 * r1 * (particle.best_position - particle.position) +\n",
        "                                 c2 * r2 * (best_pos_swarm - particle.position))\n",
        "\n",
        "            # Compute new position\n",
        "            particle.position += particle.velocity\n",
        "\n",
        "            # Clip position to stay within bounds\n",
        "            particle.position = np.clip(particle.position, minx, maxx)\n",
        "\n",
        "            # Evaluate fitness\n",
        "            current_value = rastrigin(particle.position)\n",
        "\n",
        "            # Update personal best\n",
        "            if current_value < particle.best_value:\n",
        "                particle.best_value = current_value\n",
        "                particle.best_position = particle.position.copy()\n",
        "\n",
        "            # Update global best\n",
        "            if current_value < best_fitness_swarm:\n",
        "                best_fitness_swarm = current_value\n",
        "                best_pos_swarm = particle.position.copy()\n",
        "\n",
        "    return best_pos_swarm, best_fitness_swarm\n",
        "\n",
        "def main():\n",
        "    print(\"Particle Swarm Optimization for Function Optimization\")\n",
        "\n",
        "    # Get user input for parameters\n",
        "    num_particles = int(input(\"Enter the number of particles: \"))\n",
        "    dim = int(input(\"Enter the number of dimensions: \"))\n",
        "    num_iterations = int(input(\"Enter the number of iterations: \"))\n",
        "\n",
        "    # Hyperparameters\n",
        "    w = float(input(\"Enter inertia weight (w): \"))\n",
        "    c1 = float(input(\"Enter cognitive coefficient (c1): \"))\n",
        "    c2 = float(input(\"Enter social coefficient (c2): \"))\n",
        "\n",
        "    # Bounds for the particle positions\n",
        "    minx = float(input(\"Enter minimum boundary for positions: \"))\n",
        "    maxx = float(input(\"Enter maximum boundary for positions: \"))\n",
        "\n",
        "    # Run PSO\n",
        "    best_position, best_value = particle_swarm_optimization(num_particles, dim, num_iterations, w, c1, c2, minx, maxx)\n",
        "    print(\"Best Position:\", best_position)\n",
        "    print(\"Best Value:\", best_value)\n",
        "\n",
        "if __name__ == \"__main__\":\n",
        "    main()\n",
        "print(\"Sparsha Srinath Kadaba - 1BM22CS287\")"
      ]
    }
  ]
}